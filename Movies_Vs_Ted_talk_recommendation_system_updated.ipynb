{
  "nbformat": 4,
  "nbformat_minor": 0,
  "metadata": {
    "colab": {
      "provenance": []
    },
    "kernelspec": {
      "name": "python3",
      "display_name": "Python 3"
    },
    "language_info": {
      "name": "python"
    },
    "accelerator": "GPU",
    "gpuClass": "standard"
  },
  "cells": [
    {
      "cell_type": "markdown",
      "source": [
        "# **Importing libraries**"
      ],
      "metadata": {
        "id": "hZOv1MvYoS1F"
      }
    },
    {
      "cell_type": "code",
      "source": [
        "# importing python libraries\n",
        "import pandas as pd\n",
        "import numpy as np\n",
        "import seaborn as sns\n",
        "import matplotlib.pyplot as plt\n",
        "import warnings\n",
        "warnings.filterwarnings('ignore')\n",
        "\n",
        "from sklearn.feature_extraction.text import TfidfVectorizer\n",
        "from sklearn.metrics.pairwise import cosine_similarity\n",
        "import nltk\n",
        "from nltk.corpus import stopwords\n",
        "from nltk.stem import WordNetLemmatizer\n",
        "import string"
      ],
      "metadata": {
        "id": "CR-NE_epoV4Y"
      },
      "execution_count": null,
      "outputs": []
    },
    {
      "cell_type": "markdown",
      "source": [
        "# **Load Dataset**"
      ],
      "metadata": {
        "id": "rzO5sp0_oaRO"
      }
    },
    {
      "cell_type": "code",
      "source": [
        "ted_df=pd.read_csv(\"ted_talks.csv\")\n",
        "movies_df=pd.read_csv(\"movies_meta.csv\")"
      ],
      "metadata": {
        "id": "Nu0s9KZlocqT"
      },
      "execution_count": null,
      "outputs": []
    },
    {
      "cell_type": "code",
      "source": [
        "## check our ted data\n",
        "ted_df.head()"
      ],
      "metadata": {
        "colab": {
          "base_uri": "https://localhost:8080/",
          "height": 206
        },
        "id": "MF0GX4ROqX2J",
        "outputId": "1296de49-bac4-4ed7-9ec3-bda6698e2170"
      },
      "execution_count": null,
      "outputs": [
        {
          "output_type": "execute_result",
          "data": {
            "text/plain": [
              "                                          transcript  \\\n",
              "0  Good morning. How are you?(Laughter)It's been ...   \n",
              "1  Thank you so much, Chris. And it's truly a gre...   \n",
              "2  (Music: \"The Sound of Silence,\" Simon & Garfun...   \n",
              "3  If you're here today — and I'm very happy that...   \n",
              "4  About 10 years ago, I took on the task to teac...   \n",
              "\n",
              "                                                 url  \n",
              "0  https://www.ted.com/talks/ken_robinson_says_sc...  \n",
              "1  https://www.ted.com/talks/al_gore_on_averting_...  \n",
              "2  https://www.ted.com/talks/david_pogue_says_sim...  \n",
              "3  https://www.ted.com/talks/majora_carter_s_tale...  \n",
              "4  https://www.ted.com/talks/hans_rosling_shows_t...  "
            ],
            "text/html": [
              "\n",
              "  <div id=\"df-b120ad6a-0729-4e69-9ff9-8683c46396d0\">\n",
              "    <div class=\"colab-df-container\">\n",
              "      <div>\n",
              "<style scoped>\n",
              "    .dataframe tbody tr th:only-of-type {\n",
              "        vertical-align: middle;\n",
              "    }\n",
              "\n",
              "    .dataframe tbody tr th {\n",
              "        vertical-align: top;\n",
              "    }\n",
              "\n",
              "    .dataframe thead th {\n",
              "        text-align: right;\n",
              "    }\n",
              "</style>\n",
              "<table border=\"1\" class=\"dataframe\">\n",
              "  <thead>\n",
              "    <tr style=\"text-align: right;\">\n",
              "      <th></th>\n",
              "      <th>transcript</th>\n",
              "      <th>url</th>\n",
              "    </tr>\n",
              "  </thead>\n",
              "  <tbody>\n",
              "    <tr>\n",
              "      <th>0</th>\n",
              "      <td>Good morning. How are you?(Laughter)It's been ...</td>\n",
              "      <td>https://www.ted.com/talks/ken_robinson_says_sc...</td>\n",
              "    </tr>\n",
              "    <tr>\n",
              "      <th>1</th>\n",
              "      <td>Thank you so much, Chris. And it's truly a gre...</td>\n",
              "      <td>https://www.ted.com/talks/al_gore_on_averting_...</td>\n",
              "    </tr>\n",
              "    <tr>\n",
              "      <th>2</th>\n",
              "      <td>(Music: \"The Sound of Silence,\" Simon &amp; Garfun...</td>\n",
              "      <td>https://www.ted.com/talks/david_pogue_says_sim...</td>\n",
              "    </tr>\n",
              "    <tr>\n",
              "      <th>3</th>\n",
              "      <td>If you're here today — and I'm very happy that...</td>\n",
              "      <td>https://www.ted.com/talks/majora_carter_s_tale...</td>\n",
              "    </tr>\n",
              "    <tr>\n",
              "      <th>4</th>\n",
              "      <td>About 10 years ago, I took on the task to teac...</td>\n",
              "      <td>https://www.ted.com/talks/hans_rosling_shows_t...</td>\n",
              "    </tr>\n",
              "  </tbody>\n",
              "</table>\n",
              "</div>\n",
              "      <button class=\"colab-df-convert\" onclick=\"convertToInteractive('df-b120ad6a-0729-4e69-9ff9-8683c46396d0')\"\n",
              "              title=\"Convert this dataframe to an interactive table.\"\n",
              "              style=\"display:none;\">\n",
              "        \n",
              "  <svg xmlns=\"http://www.w3.org/2000/svg\" height=\"24px\"viewBox=\"0 0 24 24\"\n",
              "       width=\"24px\">\n",
              "    <path d=\"M0 0h24v24H0V0z\" fill=\"none\"/>\n",
              "    <path d=\"M18.56 5.44l.94 2.06.94-2.06 2.06-.94-2.06-.94-.94-2.06-.94 2.06-2.06.94zm-11 1L8.5 8.5l.94-2.06 2.06-.94-2.06-.94L8.5 2.5l-.94 2.06-2.06.94zm10 10l.94 2.06.94-2.06 2.06-.94-2.06-.94-.94-2.06-.94 2.06-2.06.94z\"/><path d=\"M17.41 7.96l-1.37-1.37c-.4-.4-.92-.59-1.43-.59-.52 0-1.04.2-1.43.59L10.3 9.45l-7.72 7.72c-.78.78-.78 2.05 0 2.83L4 21.41c.39.39.9.59 1.41.59.51 0 1.02-.2 1.41-.59l7.78-7.78 2.81-2.81c.8-.78.8-2.07 0-2.86zM5.41 20L4 18.59l7.72-7.72 1.47 1.35L5.41 20z\"/>\n",
              "  </svg>\n",
              "      </button>\n",
              "      \n",
              "  <style>\n",
              "    .colab-df-container {\n",
              "      display:flex;\n",
              "      flex-wrap:wrap;\n",
              "      gap: 12px;\n",
              "    }\n",
              "\n",
              "    .colab-df-convert {\n",
              "      background-color: #E8F0FE;\n",
              "      border: none;\n",
              "      border-radius: 50%;\n",
              "      cursor: pointer;\n",
              "      display: none;\n",
              "      fill: #1967D2;\n",
              "      height: 32px;\n",
              "      padding: 0 0 0 0;\n",
              "      width: 32px;\n",
              "    }\n",
              "\n",
              "    .colab-df-convert:hover {\n",
              "      background-color: #E2EBFA;\n",
              "      box-shadow: 0px 1px 2px rgba(60, 64, 67, 0.3), 0px 1px 3px 1px rgba(60, 64, 67, 0.15);\n",
              "      fill: #174EA6;\n",
              "    }\n",
              "\n",
              "    [theme=dark] .colab-df-convert {\n",
              "      background-color: #3B4455;\n",
              "      fill: #D2E3FC;\n",
              "    }\n",
              "\n",
              "    [theme=dark] .colab-df-convert:hover {\n",
              "      background-color: #434B5C;\n",
              "      box-shadow: 0px 1px 3px 1px rgba(0, 0, 0, 0.15);\n",
              "      filter: drop-shadow(0px 1px 2px rgba(0, 0, 0, 0.3));\n",
              "      fill: #FFFFFF;\n",
              "    }\n",
              "  </style>\n",
              "\n",
              "      <script>\n",
              "        const buttonEl =\n",
              "          document.querySelector('#df-b120ad6a-0729-4e69-9ff9-8683c46396d0 button.colab-df-convert');\n",
              "        buttonEl.style.display =\n",
              "          google.colab.kernel.accessAllowed ? 'block' : 'none';\n",
              "\n",
              "        async function convertToInteractive(key) {\n",
              "          const element = document.querySelector('#df-b120ad6a-0729-4e69-9ff9-8683c46396d0');\n",
              "          const dataTable =\n",
              "            await google.colab.kernel.invokeFunction('convertToInteractive',\n",
              "                                                     [key], {});\n",
              "          if (!dataTable) return;\n",
              "\n",
              "          const docLinkHtml = 'Like what you see? Visit the ' +\n",
              "            '<a target=\"_blank\" href=https://colab.research.google.com/notebooks/data_table.ipynb>data table notebook</a>'\n",
              "            + ' to learn more about interactive tables.';\n",
              "          element.innerHTML = '';\n",
              "          dataTable['output_type'] = 'display_data';\n",
              "          await google.colab.output.renderOutput(dataTable, element);\n",
              "          const docLink = document.createElement('div');\n",
              "          docLink.innerHTML = docLinkHtml;\n",
              "          element.appendChild(docLink);\n",
              "        }\n",
              "      </script>\n",
              "    </div>\n",
              "  </div>\n",
              "  "
            ]
          },
          "metadata": {},
          "execution_count": 3
        }
      ]
    },
    {
      "cell_type": "markdown",
      "source": [
        "# **preprocess movie data**"
      ],
      "metadata": {
        "id": "I0cmDPkguSc0"
      }
    },
    {
      "cell_type": "code",
      "source": [
        "##Check our movie data\n",
        "movies_df.head()"
      ],
      "metadata": {
        "colab": {
          "base_uri": "https://localhost:8080/",
          "height": 716
        },
        "id": "9zERfhJGqbzy",
        "outputId": "006406c0-6aa7-4235-dace-43561be0de70"
      },
      "execution_count": null,
      "outputs": [
        {
          "output_type": "execute_result",
          "data": {
            "text/plain": [
              "   adult                              belongs_to_collection    budget  \\\n",
              "0  False  {'id': 10194, 'name': 'Toy Story Collection', ...  30000000   \n",
              "1  False                                                NaN  65000000   \n",
              "2  False  {'id': 645, 'name': 'James Bond Collection', '...  58000000   \n",
              "3  False                                                NaN   3600000   \n",
              "4  False                                                NaN  29500000   \n",
              "\n",
              "                                              genres  \\\n",
              "0  [{'id': 16, 'name': 'Animation'}, {'id': 35, '...   \n",
              "1  [{'id': 12, 'name': 'Adventure'}, {'id': 14, '...   \n",
              "2  [{'id': 12, 'name': 'Adventure'}, {'id': 28, '...   \n",
              "3  [{'id': 18, 'name': 'Drama'}, {'id': 10749, 'n...   \n",
              "4  [{'id': 878, 'name': 'Science Fiction'}, {'id'...   \n",
              "\n",
              "                                            homepage    id    imdb_id  \\\n",
              "0               http://toystory.disney.com/toy-story   862  tt0114709   \n",
              "1                                                NaN  8844  tt0113497   \n",
              "2       http://www.mgm.com/view/movie/757/Goldeneye/   710  tt0113189   \n",
              "3  http://www.mgm.com/title_title.do?title_star=L...   451  tt0113627   \n",
              "4                                                NaN    63  tt0114746   \n",
              "\n",
              "  original_language     original_title  \\\n",
              "0                en          Toy Story   \n",
              "1                en            Jumanji   \n",
              "2                en          GoldenEye   \n",
              "3                en  Leaving Las Vegas   \n",
              "4                en     Twelve Monkeys   \n",
              "\n",
              "                                            overview  ...  release_date  \\\n",
              "0  Led by Woody, Andy's toys live happily in his ...  ...    1995-10-30   \n",
              "1  When siblings Judy and Peter discover an encha...  ...    1995-12-15   \n",
              "2  James Bond must unmask the mysterious head of ...  ...    1995-11-16   \n",
              "3  Ben Sanderson, an alcoholic Hollywood screenwr...  ...    1995-10-27   \n",
              "4  In the year 2035, convict James Cole reluctant...  ...    1995-12-29   \n",
              "\n",
              "       revenue runtime                                   spoken_languages  \\\n",
              "0  373554033.0    81.0           [{'iso_639_1': 'en', 'name': 'English'}]   \n",
              "1  262797249.0   104.0  [{'iso_639_1': 'en', 'name': 'English'}, {'iso...   \n",
              "2  352194034.0   130.0  [{'iso_639_1': 'en', 'name': 'English'}, {'iso...   \n",
              "3   49800000.0   112.0           [{'iso_639_1': 'en', 'name': 'English'}]   \n",
              "4  168840000.0   129.0  [{'iso_639_1': 'en', 'name': 'English'}, {'iso...   \n",
              "\n",
              "     status                                    tagline              title  \\\n",
              "0  Released                                        NaN          Toy Story   \n",
              "1  Released  Roll the dice and unleash the excitement!            Jumanji   \n",
              "2  Released       No limits. No fears. No substitutes.          GoldenEye   \n",
              "3  Released             I Love You... The Way You Are.  Leaving Las Vegas   \n",
              "4  Released                     The future is history.     Twelve Monkeys   \n",
              "\n",
              "   video vote_average vote_count  \n",
              "0  False          7.7     5415.0  \n",
              "1  False          6.9     2413.0  \n",
              "2  False          6.6     1194.0  \n",
              "3  False          7.1      365.0  \n",
              "4  False          7.4     2470.0  \n",
              "\n",
              "[5 rows x 24 columns]"
            ],
            "text/html": [
              "\n",
              "  <div id=\"df-4455dde2-a952-4f25-b907-7855de025346\">\n",
              "    <div class=\"colab-df-container\">\n",
              "      <div>\n",
              "<style scoped>\n",
              "    .dataframe tbody tr th:only-of-type {\n",
              "        vertical-align: middle;\n",
              "    }\n",
              "\n",
              "    .dataframe tbody tr th {\n",
              "        vertical-align: top;\n",
              "    }\n",
              "\n",
              "    .dataframe thead th {\n",
              "        text-align: right;\n",
              "    }\n",
              "</style>\n",
              "<table border=\"1\" class=\"dataframe\">\n",
              "  <thead>\n",
              "    <tr style=\"text-align: right;\">\n",
              "      <th></th>\n",
              "      <th>adult</th>\n",
              "      <th>belongs_to_collection</th>\n",
              "      <th>budget</th>\n",
              "      <th>genres</th>\n",
              "      <th>homepage</th>\n",
              "      <th>id</th>\n",
              "      <th>imdb_id</th>\n",
              "      <th>original_language</th>\n",
              "      <th>original_title</th>\n",
              "      <th>overview</th>\n",
              "      <th>...</th>\n",
              "      <th>release_date</th>\n",
              "      <th>revenue</th>\n",
              "      <th>runtime</th>\n",
              "      <th>spoken_languages</th>\n",
              "      <th>status</th>\n",
              "      <th>tagline</th>\n",
              "      <th>title</th>\n",
              "      <th>video</th>\n",
              "      <th>vote_average</th>\n",
              "      <th>vote_count</th>\n",
              "    </tr>\n",
              "  </thead>\n",
              "  <tbody>\n",
              "    <tr>\n",
              "      <th>0</th>\n",
              "      <td>False</td>\n",
              "      <td>{'id': 10194, 'name': 'Toy Story Collection', ...</td>\n",
              "      <td>30000000</td>\n",
              "      <td>[{'id': 16, 'name': 'Animation'}, {'id': 35, '...</td>\n",
              "      <td>http://toystory.disney.com/toy-story</td>\n",
              "      <td>862</td>\n",
              "      <td>tt0114709</td>\n",
              "      <td>en</td>\n",
              "      <td>Toy Story</td>\n",
              "      <td>Led by Woody, Andy's toys live happily in his ...</td>\n",
              "      <td>...</td>\n",
              "      <td>1995-10-30</td>\n",
              "      <td>373554033.0</td>\n",
              "      <td>81.0</td>\n",
              "      <td>[{'iso_639_1': 'en', 'name': 'English'}]</td>\n",
              "      <td>Released</td>\n",
              "      <td>NaN</td>\n",
              "      <td>Toy Story</td>\n",
              "      <td>False</td>\n",
              "      <td>7.7</td>\n",
              "      <td>5415.0</td>\n",
              "    </tr>\n",
              "    <tr>\n",
              "      <th>1</th>\n",
              "      <td>False</td>\n",
              "      <td>NaN</td>\n",
              "      <td>65000000</td>\n",
              "      <td>[{'id': 12, 'name': 'Adventure'}, {'id': 14, '...</td>\n",
              "      <td>NaN</td>\n",
              "      <td>8844</td>\n",
              "      <td>tt0113497</td>\n",
              "      <td>en</td>\n",
              "      <td>Jumanji</td>\n",
              "      <td>When siblings Judy and Peter discover an encha...</td>\n",
              "      <td>...</td>\n",
              "      <td>1995-12-15</td>\n",
              "      <td>262797249.0</td>\n",
              "      <td>104.0</td>\n",
              "      <td>[{'iso_639_1': 'en', 'name': 'English'}, {'iso...</td>\n",
              "      <td>Released</td>\n",
              "      <td>Roll the dice and unleash the excitement!</td>\n",
              "      <td>Jumanji</td>\n",
              "      <td>False</td>\n",
              "      <td>6.9</td>\n",
              "      <td>2413.0</td>\n",
              "    </tr>\n",
              "    <tr>\n",
              "      <th>2</th>\n",
              "      <td>False</td>\n",
              "      <td>{'id': 645, 'name': 'James Bond Collection', '...</td>\n",
              "      <td>58000000</td>\n",
              "      <td>[{'id': 12, 'name': 'Adventure'}, {'id': 28, '...</td>\n",
              "      <td>http://www.mgm.com/view/movie/757/Goldeneye/</td>\n",
              "      <td>710</td>\n",
              "      <td>tt0113189</td>\n",
              "      <td>en</td>\n",
              "      <td>GoldenEye</td>\n",
              "      <td>James Bond must unmask the mysterious head of ...</td>\n",
              "      <td>...</td>\n",
              "      <td>1995-11-16</td>\n",
              "      <td>352194034.0</td>\n",
              "      <td>130.0</td>\n",
              "      <td>[{'iso_639_1': 'en', 'name': 'English'}, {'iso...</td>\n",
              "      <td>Released</td>\n",
              "      <td>No limits. No fears. No substitutes.</td>\n",
              "      <td>GoldenEye</td>\n",
              "      <td>False</td>\n",
              "      <td>6.6</td>\n",
              "      <td>1194.0</td>\n",
              "    </tr>\n",
              "    <tr>\n",
              "      <th>3</th>\n",
              "      <td>False</td>\n",
              "      <td>NaN</td>\n",
              "      <td>3600000</td>\n",
              "      <td>[{'id': 18, 'name': 'Drama'}, {'id': 10749, 'n...</td>\n",
              "      <td>http://www.mgm.com/title_title.do?title_star=L...</td>\n",
              "      <td>451</td>\n",
              "      <td>tt0113627</td>\n",
              "      <td>en</td>\n",
              "      <td>Leaving Las Vegas</td>\n",
              "      <td>Ben Sanderson, an alcoholic Hollywood screenwr...</td>\n",
              "      <td>...</td>\n",
              "      <td>1995-10-27</td>\n",
              "      <td>49800000.0</td>\n",
              "      <td>112.0</td>\n",
              "      <td>[{'iso_639_1': 'en', 'name': 'English'}]</td>\n",
              "      <td>Released</td>\n",
              "      <td>I Love You... The Way You Are.</td>\n",
              "      <td>Leaving Las Vegas</td>\n",
              "      <td>False</td>\n",
              "      <td>7.1</td>\n",
              "      <td>365.0</td>\n",
              "    </tr>\n",
              "    <tr>\n",
              "      <th>4</th>\n",
              "      <td>False</td>\n",
              "      <td>NaN</td>\n",
              "      <td>29500000</td>\n",
              "      <td>[{'id': 878, 'name': 'Science Fiction'}, {'id'...</td>\n",
              "      <td>NaN</td>\n",
              "      <td>63</td>\n",
              "      <td>tt0114746</td>\n",
              "      <td>en</td>\n",
              "      <td>Twelve Monkeys</td>\n",
              "      <td>In the year 2035, convict James Cole reluctant...</td>\n",
              "      <td>...</td>\n",
              "      <td>1995-12-29</td>\n",
              "      <td>168840000.0</td>\n",
              "      <td>129.0</td>\n",
              "      <td>[{'iso_639_1': 'en', 'name': 'English'}, {'iso...</td>\n",
              "      <td>Released</td>\n",
              "      <td>The future is history.</td>\n",
              "      <td>Twelve Monkeys</td>\n",
              "      <td>False</td>\n",
              "      <td>7.4</td>\n",
              "      <td>2470.0</td>\n",
              "    </tr>\n",
              "  </tbody>\n",
              "</table>\n",
              "<p>5 rows × 24 columns</p>\n",
              "</div>\n",
              "      <button class=\"colab-df-convert\" onclick=\"convertToInteractive('df-4455dde2-a952-4f25-b907-7855de025346')\"\n",
              "              title=\"Convert this dataframe to an interactive table.\"\n",
              "              style=\"display:none;\">\n",
              "        \n",
              "  <svg xmlns=\"http://www.w3.org/2000/svg\" height=\"24px\"viewBox=\"0 0 24 24\"\n",
              "       width=\"24px\">\n",
              "    <path d=\"M0 0h24v24H0V0z\" fill=\"none\"/>\n",
              "    <path d=\"M18.56 5.44l.94 2.06.94-2.06 2.06-.94-2.06-.94-.94-2.06-.94 2.06-2.06.94zm-11 1L8.5 8.5l.94-2.06 2.06-.94-2.06-.94L8.5 2.5l-.94 2.06-2.06.94zm10 10l.94 2.06.94-2.06 2.06-.94-2.06-.94-.94-2.06-.94 2.06-2.06.94z\"/><path d=\"M17.41 7.96l-1.37-1.37c-.4-.4-.92-.59-1.43-.59-.52 0-1.04.2-1.43.59L10.3 9.45l-7.72 7.72c-.78.78-.78 2.05 0 2.83L4 21.41c.39.39.9.59 1.41.59.51 0 1.02-.2 1.41-.59l7.78-7.78 2.81-2.81c.8-.78.8-2.07 0-2.86zM5.41 20L4 18.59l7.72-7.72 1.47 1.35L5.41 20z\"/>\n",
              "  </svg>\n",
              "      </button>\n",
              "      \n",
              "  <style>\n",
              "    .colab-df-container {\n",
              "      display:flex;\n",
              "      flex-wrap:wrap;\n",
              "      gap: 12px;\n",
              "    }\n",
              "\n",
              "    .colab-df-convert {\n",
              "      background-color: #E8F0FE;\n",
              "      border: none;\n",
              "      border-radius: 50%;\n",
              "      cursor: pointer;\n",
              "      display: none;\n",
              "      fill: #1967D2;\n",
              "      height: 32px;\n",
              "      padding: 0 0 0 0;\n",
              "      width: 32px;\n",
              "    }\n",
              "\n",
              "    .colab-df-convert:hover {\n",
              "      background-color: #E2EBFA;\n",
              "      box-shadow: 0px 1px 2px rgba(60, 64, 67, 0.3), 0px 1px 3px 1px rgba(60, 64, 67, 0.15);\n",
              "      fill: #174EA6;\n",
              "    }\n",
              "\n",
              "    [theme=dark] .colab-df-convert {\n",
              "      background-color: #3B4455;\n",
              "      fill: #D2E3FC;\n",
              "    }\n",
              "\n",
              "    [theme=dark] .colab-df-convert:hover {\n",
              "      background-color: #434B5C;\n",
              "      box-shadow: 0px 1px 3px 1px rgba(0, 0, 0, 0.15);\n",
              "      filter: drop-shadow(0px 1px 2px rgba(0, 0, 0, 0.3));\n",
              "      fill: #FFFFFF;\n",
              "    }\n",
              "  </style>\n",
              "\n",
              "      <script>\n",
              "        const buttonEl =\n",
              "          document.querySelector('#df-4455dde2-a952-4f25-b907-7855de025346 button.colab-df-convert');\n",
              "        buttonEl.style.display =\n",
              "          google.colab.kernel.accessAllowed ? 'block' : 'none';\n",
              "\n",
              "        async function convertToInteractive(key) {\n",
              "          const element = document.querySelector('#df-4455dde2-a952-4f25-b907-7855de025346');\n",
              "          const dataTable =\n",
              "            await google.colab.kernel.invokeFunction('convertToInteractive',\n",
              "                                                     [key], {});\n",
              "          if (!dataTable) return;\n",
              "\n",
              "          const docLinkHtml = 'Like what you see? Visit the ' +\n",
              "            '<a target=\"_blank\" href=https://colab.research.google.com/notebooks/data_table.ipynb>data table notebook</a>'\n",
              "            + ' to learn more about interactive tables.';\n",
              "          element.innerHTML = '';\n",
              "          dataTable['output_type'] = 'display_data';\n",
              "          await google.colab.output.renderOutput(dataTable, element);\n",
              "          const docLink = document.createElement('div');\n",
              "          docLink.innerHTML = docLinkHtml;\n",
              "          element.appendChild(docLink);\n",
              "        }\n",
              "      </script>\n",
              "    </div>\n",
              "  </div>\n",
              "  "
            ]
          },
          "metadata": {},
          "execution_count": 4
        }
      ]
    },
    {
      "cell_type": "code",
      "source": [
        "## check the columns of our movie data\n",
        "movies_df.columns"
      ],
      "metadata": {
        "colab": {
          "base_uri": "https://localhost:8080/"
        },
        "id": "JGbILg2yqkG8",
        "outputId": "79ef5032-b277-4bf1-f4e6-b59d710c3164"
      },
      "execution_count": null,
      "outputs": [
        {
          "output_type": "execute_result",
          "data": {
            "text/plain": [
              "Index(['adult', 'belongs_to_collection', 'budget', 'genres', 'homepage', 'id',\n",
              "       'imdb_id', 'original_language', 'original_title', 'overview',\n",
              "       'popularity', 'poster_path', 'production_companies',\n",
              "       'production_countries', 'release_date', 'revenue', 'runtime',\n",
              "       'spoken_languages', 'status', 'tagline', 'title', 'video',\n",
              "       'vote_average', 'vote_count'],\n",
              "      dtype='object')"
            ]
          },
          "metadata": {},
          "execution_count": 5
        }
      ]
    },
    {
      "cell_type": "code",
      "source": [
        "## we need only the data from movies is the title,id and overview column so let's extract that\n",
        "movie_df=movies_df[['id','original_title', 'overview']]\n",
        "movie_df.head()"
      ],
      "metadata": {
        "colab": {
          "base_uri": "https://localhost:8080/",
          "height": 206
        },
        "id": "3SReDw_yrzRu",
        "outputId": "809ccf30-d111-4414-a613-4b88d9eff360"
      },
      "execution_count": null,
      "outputs": [
        {
          "output_type": "execute_result",
          "data": {
            "text/plain": [
              "     id     original_title                                           overview\n",
              "0   862          Toy Story  Led by Woody, Andy's toys live happily in his ...\n",
              "1  8844            Jumanji  When siblings Judy and Peter discover an encha...\n",
              "2   710          GoldenEye  James Bond must unmask the mysterious head of ...\n",
              "3   451  Leaving Las Vegas  Ben Sanderson, an alcoholic Hollywood screenwr...\n",
              "4    63     Twelve Monkeys  In the year 2035, convict James Cole reluctant..."
            ],
            "text/html": [
              "\n",
              "  <div id=\"df-3c2d69d1-9c1d-4fa2-b25a-6e06d69d887d\">\n",
              "    <div class=\"colab-df-container\">\n",
              "      <div>\n",
              "<style scoped>\n",
              "    .dataframe tbody tr th:only-of-type {\n",
              "        vertical-align: middle;\n",
              "    }\n",
              "\n",
              "    .dataframe tbody tr th {\n",
              "        vertical-align: top;\n",
              "    }\n",
              "\n",
              "    .dataframe thead th {\n",
              "        text-align: right;\n",
              "    }\n",
              "</style>\n",
              "<table border=\"1\" class=\"dataframe\">\n",
              "  <thead>\n",
              "    <tr style=\"text-align: right;\">\n",
              "      <th></th>\n",
              "      <th>id</th>\n",
              "      <th>original_title</th>\n",
              "      <th>overview</th>\n",
              "    </tr>\n",
              "  </thead>\n",
              "  <tbody>\n",
              "    <tr>\n",
              "      <th>0</th>\n",
              "      <td>862</td>\n",
              "      <td>Toy Story</td>\n",
              "      <td>Led by Woody, Andy's toys live happily in his ...</td>\n",
              "    </tr>\n",
              "    <tr>\n",
              "      <th>1</th>\n",
              "      <td>8844</td>\n",
              "      <td>Jumanji</td>\n",
              "      <td>When siblings Judy and Peter discover an encha...</td>\n",
              "    </tr>\n",
              "    <tr>\n",
              "      <th>2</th>\n",
              "      <td>710</td>\n",
              "      <td>GoldenEye</td>\n",
              "      <td>James Bond must unmask the mysterious head of ...</td>\n",
              "    </tr>\n",
              "    <tr>\n",
              "      <th>3</th>\n",
              "      <td>451</td>\n",
              "      <td>Leaving Las Vegas</td>\n",
              "      <td>Ben Sanderson, an alcoholic Hollywood screenwr...</td>\n",
              "    </tr>\n",
              "    <tr>\n",
              "      <th>4</th>\n",
              "      <td>63</td>\n",
              "      <td>Twelve Monkeys</td>\n",
              "      <td>In the year 2035, convict James Cole reluctant...</td>\n",
              "    </tr>\n",
              "  </tbody>\n",
              "</table>\n",
              "</div>\n",
              "      <button class=\"colab-df-convert\" onclick=\"convertToInteractive('df-3c2d69d1-9c1d-4fa2-b25a-6e06d69d887d')\"\n",
              "              title=\"Convert this dataframe to an interactive table.\"\n",
              "              style=\"display:none;\">\n",
              "        \n",
              "  <svg xmlns=\"http://www.w3.org/2000/svg\" height=\"24px\"viewBox=\"0 0 24 24\"\n",
              "       width=\"24px\">\n",
              "    <path d=\"M0 0h24v24H0V0z\" fill=\"none\"/>\n",
              "    <path d=\"M18.56 5.44l.94 2.06.94-2.06 2.06-.94-2.06-.94-.94-2.06-.94 2.06-2.06.94zm-11 1L8.5 8.5l.94-2.06 2.06-.94-2.06-.94L8.5 2.5l-.94 2.06-2.06.94zm10 10l.94 2.06.94-2.06 2.06-.94-2.06-.94-.94-2.06-.94 2.06-2.06.94z\"/><path d=\"M17.41 7.96l-1.37-1.37c-.4-.4-.92-.59-1.43-.59-.52 0-1.04.2-1.43.59L10.3 9.45l-7.72 7.72c-.78.78-.78 2.05 0 2.83L4 21.41c.39.39.9.59 1.41.59.51 0 1.02-.2 1.41-.59l7.78-7.78 2.81-2.81c.8-.78.8-2.07 0-2.86zM5.41 20L4 18.59l7.72-7.72 1.47 1.35L5.41 20z\"/>\n",
              "  </svg>\n",
              "      </button>\n",
              "      \n",
              "  <style>\n",
              "    .colab-df-container {\n",
              "      display:flex;\n",
              "      flex-wrap:wrap;\n",
              "      gap: 12px;\n",
              "    }\n",
              "\n",
              "    .colab-df-convert {\n",
              "      background-color: #E8F0FE;\n",
              "      border: none;\n",
              "      border-radius: 50%;\n",
              "      cursor: pointer;\n",
              "      display: none;\n",
              "      fill: #1967D2;\n",
              "      height: 32px;\n",
              "      padding: 0 0 0 0;\n",
              "      width: 32px;\n",
              "    }\n",
              "\n",
              "    .colab-df-convert:hover {\n",
              "      background-color: #E2EBFA;\n",
              "      box-shadow: 0px 1px 2px rgba(60, 64, 67, 0.3), 0px 1px 3px 1px rgba(60, 64, 67, 0.15);\n",
              "      fill: #174EA6;\n",
              "    }\n",
              "\n",
              "    [theme=dark] .colab-df-convert {\n",
              "      background-color: #3B4455;\n",
              "      fill: #D2E3FC;\n",
              "    }\n",
              "\n",
              "    [theme=dark] .colab-df-convert:hover {\n",
              "      background-color: #434B5C;\n",
              "      box-shadow: 0px 1px 3px 1px rgba(0, 0, 0, 0.15);\n",
              "      filter: drop-shadow(0px 1px 2px rgba(0, 0, 0, 0.3));\n",
              "      fill: #FFFFFF;\n",
              "    }\n",
              "  </style>\n",
              "\n",
              "      <script>\n",
              "        const buttonEl =\n",
              "          document.querySelector('#df-3c2d69d1-9c1d-4fa2-b25a-6e06d69d887d button.colab-df-convert');\n",
              "        buttonEl.style.display =\n",
              "          google.colab.kernel.accessAllowed ? 'block' : 'none';\n",
              "\n",
              "        async function convertToInteractive(key) {\n",
              "          const element = document.querySelector('#df-3c2d69d1-9c1d-4fa2-b25a-6e06d69d887d');\n",
              "          const dataTable =\n",
              "            await google.colab.kernel.invokeFunction('convertToInteractive',\n",
              "                                                     [key], {});\n",
              "          if (!dataTable) return;\n",
              "\n",
              "          const docLinkHtml = 'Like what you see? Visit the ' +\n",
              "            '<a target=\"_blank\" href=https://colab.research.google.com/notebooks/data_table.ipynb>data table notebook</a>'\n",
              "            + ' to learn more about interactive tables.';\n",
              "          element.innerHTML = '';\n",
              "          dataTable['output_type'] = 'display_data';\n",
              "          await google.colab.output.renderOutput(dataTable, element);\n",
              "          const docLink = document.createElement('div');\n",
              "          docLink.innerHTML = docLinkHtml;\n",
              "          element.appendChild(docLink);\n",
              "        }\n",
              "      </script>\n",
              "    </div>\n",
              "  </div>\n",
              "  "
            ]
          },
          "metadata": {},
          "execution_count": 6
        }
      ]
    },
    {
      "cell_type": "code",
      "source": [
        "movie_df.shape"
      ],
      "metadata": {
        "colab": {
          "base_uri": "https://localhost:8080/"
        },
        "id": "g_CPLK2IsgjQ",
        "outputId": "cfb7047f-bde1-4de3-ba9a-1c46845c4fbf"
      },
      "execution_count": null,
      "outputs": [
        {
          "output_type": "execute_result",
          "data": {
            "text/plain": [
              "(4690, 3)"
            ]
          },
          "metadata": {},
          "execution_count": 7
        }
      ]
    },
    {
      "cell_type": "code",
      "source": [
        "##check is there any missing data in our  movies dataset\n",
        "movie_df.isnull().sum()"
      ],
      "metadata": {
        "colab": {
          "base_uri": "https://localhost:8080/"
        },
        "id": "Hxy2ypZMsPLr",
        "outputId": "227ada2a-3bc7-4f49-8e46-9b4b4032b179"
      },
      "execution_count": null,
      "outputs": [
        {
          "output_type": "execute_result",
          "data": {
            "text/plain": [
              "id                 0\n",
              "original_title     0\n",
              "overview          33\n",
              "dtype: int64"
            ]
          },
          "metadata": {},
          "execution_count": 8
        }
      ]
    },
    {
      "cell_type": "code",
      "source": [
        "## let's drop the rows that are missing in our movies dataset\n",
        "movie_df.dropna(axis=0,inplace=True)"
      ],
      "metadata": {
        "id": "C8ewEZQ-ss7g"
      },
      "execution_count": null,
      "outputs": []
    },
    {
      "cell_type": "code",
      "source": [
        "#merge overview and original_title both columns and make single column named as Subtitle\n",
        "movie_df['Subtitle']=movie_df['original_title']+movie_df['overview']"
      ],
      "metadata": {
        "id": "0X1CB3g50_6-"
      },
      "execution_count": null,
      "outputs": []
    },
    {
      "cell_type": "code",
      "source": [
        "# Preprocess the movie data\n",
        "#converting text into lower case\n",
        "movie_df[\"Subtitle\"] = movie_df[\"Subtitle\"].str.lower()"
      ],
      "metadata": {
        "id": "4jEMEt_L1ZrU"
      },
      "execution_count": null,
      "outputs": []
    },
    {
      "cell_type": "markdown",
      "source": [
        "# **preprocess ted data**"
      ],
      "metadata": {
        "id": "B12cm2IM2CBN"
      }
    },
    {
      "cell_type": "code",
      "source": [
        "ted_df.head()"
      ],
      "metadata": {
        "colab": {
          "base_uri": "https://localhost:8080/",
          "height": 206
        },
        "id": "aF-x-sLR1w1T",
        "outputId": "b64d7502-f7f1-488a-cb71-ecdf755f9293"
      },
      "execution_count": null,
      "outputs": [
        {
          "output_type": "execute_result",
          "data": {
            "text/plain": [
              "                                          transcript  \\\n",
              "0  Good morning. How are you?(Laughter)It's been ...   \n",
              "1  Thank you so much, Chris. And it's truly a gre...   \n",
              "2  (Music: \"The Sound of Silence,\" Simon & Garfun...   \n",
              "3  If you're here today — and I'm very happy that...   \n",
              "4  About 10 years ago, I took on the task to teac...   \n",
              "\n",
              "                                                 url  \n",
              "0  https://www.ted.com/talks/ken_robinson_says_sc...  \n",
              "1  https://www.ted.com/talks/al_gore_on_averting_...  \n",
              "2  https://www.ted.com/talks/david_pogue_says_sim...  \n",
              "3  https://www.ted.com/talks/majora_carter_s_tale...  \n",
              "4  https://www.ted.com/talks/hans_rosling_shows_t...  "
            ],
            "text/html": [
              "\n",
              "  <div id=\"df-35071bcc-5dcc-4bd0-a27c-eed1635b00ae\">\n",
              "    <div class=\"colab-df-container\">\n",
              "      <div>\n",
              "<style scoped>\n",
              "    .dataframe tbody tr th:only-of-type {\n",
              "        vertical-align: middle;\n",
              "    }\n",
              "\n",
              "    .dataframe tbody tr th {\n",
              "        vertical-align: top;\n",
              "    }\n",
              "\n",
              "    .dataframe thead th {\n",
              "        text-align: right;\n",
              "    }\n",
              "</style>\n",
              "<table border=\"1\" class=\"dataframe\">\n",
              "  <thead>\n",
              "    <tr style=\"text-align: right;\">\n",
              "      <th></th>\n",
              "      <th>transcript</th>\n",
              "      <th>url</th>\n",
              "    </tr>\n",
              "  </thead>\n",
              "  <tbody>\n",
              "    <tr>\n",
              "      <th>0</th>\n",
              "      <td>Good morning. How are you?(Laughter)It's been ...</td>\n",
              "      <td>https://www.ted.com/talks/ken_robinson_says_sc...</td>\n",
              "    </tr>\n",
              "    <tr>\n",
              "      <th>1</th>\n",
              "      <td>Thank you so much, Chris. And it's truly a gre...</td>\n",
              "      <td>https://www.ted.com/talks/al_gore_on_averting_...</td>\n",
              "    </tr>\n",
              "    <tr>\n",
              "      <th>2</th>\n",
              "      <td>(Music: \"The Sound of Silence,\" Simon &amp; Garfun...</td>\n",
              "      <td>https://www.ted.com/talks/david_pogue_says_sim...</td>\n",
              "    </tr>\n",
              "    <tr>\n",
              "      <th>3</th>\n",
              "      <td>If you're here today — and I'm very happy that...</td>\n",
              "      <td>https://www.ted.com/talks/majora_carter_s_tale...</td>\n",
              "    </tr>\n",
              "    <tr>\n",
              "      <th>4</th>\n",
              "      <td>About 10 years ago, I took on the task to teac...</td>\n",
              "      <td>https://www.ted.com/talks/hans_rosling_shows_t...</td>\n",
              "    </tr>\n",
              "  </tbody>\n",
              "</table>\n",
              "</div>\n",
              "      <button class=\"colab-df-convert\" onclick=\"convertToInteractive('df-35071bcc-5dcc-4bd0-a27c-eed1635b00ae')\"\n",
              "              title=\"Convert this dataframe to an interactive table.\"\n",
              "              style=\"display:none;\">\n",
              "        \n",
              "  <svg xmlns=\"http://www.w3.org/2000/svg\" height=\"24px\"viewBox=\"0 0 24 24\"\n",
              "       width=\"24px\">\n",
              "    <path d=\"M0 0h24v24H0V0z\" fill=\"none\"/>\n",
              "    <path d=\"M18.56 5.44l.94 2.06.94-2.06 2.06-.94-2.06-.94-.94-2.06-.94 2.06-2.06.94zm-11 1L8.5 8.5l.94-2.06 2.06-.94-2.06-.94L8.5 2.5l-.94 2.06-2.06.94zm10 10l.94 2.06.94-2.06 2.06-.94-2.06-.94-.94-2.06-.94 2.06-2.06.94z\"/><path d=\"M17.41 7.96l-1.37-1.37c-.4-.4-.92-.59-1.43-.59-.52 0-1.04.2-1.43.59L10.3 9.45l-7.72 7.72c-.78.78-.78 2.05 0 2.83L4 21.41c.39.39.9.59 1.41.59.51 0 1.02-.2 1.41-.59l7.78-7.78 2.81-2.81c.8-.78.8-2.07 0-2.86zM5.41 20L4 18.59l7.72-7.72 1.47 1.35L5.41 20z\"/>\n",
              "  </svg>\n",
              "      </button>\n",
              "      \n",
              "  <style>\n",
              "    .colab-df-container {\n",
              "      display:flex;\n",
              "      flex-wrap:wrap;\n",
              "      gap: 12px;\n",
              "    }\n",
              "\n",
              "    .colab-df-convert {\n",
              "      background-color: #E8F0FE;\n",
              "      border: none;\n",
              "      border-radius: 50%;\n",
              "      cursor: pointer;\n",
              "      display: none;\n",
              "      fill: #1967D2;\n",
              "      height: 32px;\n",
              "      padding: 0 0 0 0;\n",
              "      width: 32px;\n",
              "    }\n",
              "\n",
              "    .colab-df-convert:hover {\n",
              "      background-color: #E2EBFA;\n",
              "      box-shadow: 0px 1px 2px rgba(60, 64, 67, 0.3), 0px 1px 3px 1px rgba(60, 64, 67, 0.15);\n",
              "      fill: #174EA6;\n",
              "    }\n",
              "\n",
              "    [theme=dark] .colab-df-convert {\n",
              "      background-color: #3B4455;\n",
              "      fill: #D2E3FC;\n",
              "    }\n",
              "\n",
              "    [theme=dark] .colab-df-convert:hover {\n",
              "      background-color: #434B5C;\n",
              "      box-shadow: 0px 1px 3px 1px rgba(0, 0, 0, 0.15);\n",
              "      filter: drop-shadow(0px 1px 2px rgba(0, 0, 0, 0.3));\n",
              "      fill: #FFFFFF;\n",
              "    }\n",
              "  </style>\n",
              "\n",
              "      <script>\n",
              "        const buttonEl =\n",
              "          document.querySelector('#df-35071bcc-5dcc-4bd0-a27c-eed1635b00ae button.colab-df-convert');\n",
              "        buttonEl.style.display =\n",
              "          google.colab.kernel.accessAllowed ? 'block' : 'none';\n",
              "\n",
              "        async function convertToInteractive(key) {\n",
              "          const element = document.querySelector('#df-35071bcc-5dcc-4bd0-a27c-eed1635b00ae');\n",
              "          const dataTable =\n",
              "            await google.colab.kernel.invokeFunction('convertToInteractive',\n",
              "                                                     [key], {});\n",
              "          if (!dataTable) return;\n",
              "\n",
              "          const docLinkHtml = 'Like what you see? Visit the ' +\n",
              "            '<a target=\"_blank\" href=https://colab.research.google.com/notebooks/data_table.ipynb>data table notebook</a>'\n",
              "            + ' to learn more about interactive tables.';\n",
              "          element.innerHTML = '';\n",
              "          dataTable['output_type'] = 'display_data';\n",
              "          await google.colab.output.renderOutput(dataTable, element);\n",
              "          const docLink = document.createElement('div');\n",
              "          docLink.innerHTML = docLinkHtml;\n",
              "          element.appendChild(docLink);\n",
              "        }\n",
              "      </script>\n",
              "    </div>\n",
              "  </div>\n",
              "  "
            ]
          },
          "metadata": {},
          "execution_count": 12
        }
      ]
    },
    {
      "cell_type": "code",
      "source": [
        "# check if there missing values exit\n",
        "ted_df.isnull().sum()"
      ],
      "metadata": {
        "colab": {
          "base_uri": "https://localhost:8080/"
        },
        "id": "bXWAijnX1qga",
        "outputId": "60afab76-8ca5-47c9-af7f-e3ec3ba07b4c"
      },
      "execution_count": null,
      "outputs": [
        {
          "output_type": "execute_result",
          "data": {
            "text/plain": [
              "transcript    0\n",
              "url           0\n",
              "dtype: int64"
            ]
          },
          "metadata": {},
          "execution_count": 13
        }
      ]
    },
    {
      "cell_type": "markdown",
      "source": [
        "we can see that dataset has no missing values."
      ],
      "metadata": {
        "id": "KVY3rjmL2R5M"
      }
    },
    {
      "cell_type": "code",
      "source": [
        "# Preprocess the ted talk data\n",
        "#converting text into lower case\n",
        "ted_df[\"transcript\"] = ted_df[\"transcript\"].str.lower()"
      ],
      "metadata": {
        "id": "x2exSEef2RL1"
      },
      "execution_count": null,
      "outputs": []
    },
    {
      "cell_type": "markdown",
      "source": [
        "# **Merge the dataset**"
      ],
      "metadata": {
        "id": "GhtGJGmU3TrP"
      }
    },
    {
      "cell_type": "code",
      "source": [
        "# Combine the movie and TED talk data\n",
        "combined_df = pd.concat([movie_df[['id',\"original_title\", \"overview\", \"Subtitle\"]], ted_df[[\"url\", \"transcript\"]]],\n",
        "                        axis=1, ignore_index=True)\n",
        "combined_df.columns =['id',\"original_title\", \"overview\", \"Subtitle\",\"url\", \"transcript\"]"
      ],
      "metadata": {
        "id": "vMa6LawH3WFr"
      },
      "execution_count": null,
      "outputs": []
    },
    {
      "cell_type": "code",
      "source": [
        "#shape of ted data\n",
        "ted_df.shape"
      ],
      "metadata": {
        "colab": {
          "base_uri": "https://localhost:8080/"
        },
        "id": "coJ-yboc4PF0",
        "outputId": "88fd59cc-86eb-438b-c368-f6a56253657a"
      },
      "execution_count": null,
      "outputs": [
        {
          "output_type": "execute_result",
          "data": {
            "text/plain": [
              "(2467, 2)"
            ]
          },
          "metadata": {},
          "execution_count": 16
        }
      ]
    },
    {
      "cell_type": "code",
      "source": [
        "# shape of movie data\n",
        "movie_df.shape"
      ],
      "metadata": {
        "colab": {
          "base_uri": "https://localhost:8080/"
        },
        "id": "XQrY-W1g4WMs",
        "outputId": "f18c8d5e-006d-467b-8d75-2af8a5e5c1c2"
      },
      "execution_count": null,
      "outputs": [
        {
          "output_type": "execute_result",
          "data": {
            "text/plain": [
              "(4657, 4)"
            ]
          },
          "metadata": {},
          "execution_count": 17
        }
      ]
    },
    {
      "cell_type": "code",
      "source": [
        "# So we can see that the shape of both dataset was not matched so we concat that dataset so we need to remove null rows\n",
        "combined_df.dropna(inplace=True)"
      ],
      "metadata": {
        "id": "dwZoiM4d3u0f"
      },
      "execution_count": null,
      "outputs": []
    },
    {
      "cell_type": "code",
      "source": [
        "# shape of our final combined data\n",
        "combined_df.shape"
      ],
      "metadata": {
        "colab": {
          "base_uri": "https://localhost:8080/"
        },
        "id": "d5k5K8Zc4DA_",
        "outputId": "0d401224-f561-4ea0-e94a-ae28faf948c9"
      },
      "execution_count": null,
      "outputs": [
        {
          "output_type": "execute_result",
          "data": {
            "text/plain": [
              "(2464, 6)"
            ]
          },
          "metadata": {},
          "execution_count": 19
        }
      ]
    },
    {
      "cell_type": "code",
      "source": [
        "combined_df.head()"
      ],
      "metadata": {
        "colab": {
          "base_uri": "https://localhost:8080/",
          "height": 337
        },
        "id": "ixP9xmV3426f",
        "outputId": "2d0c0ba4-99a1-4abb-d84b-560303a26754"
      },
      "execution_count": null,
      "outputs": [
        {
          "output_type": "execute_result",
          "data": {
            "text/plain": [
              "       id     original_title  \\\n",
              "0   862.0          Toy Story   \n",
              "1  8844.0            Jumanji   \n",
              "2   710.0          GoldenEye   \n",
              "3   451.0  Leaving Las Vegas   \n",
              "4    63.0     Twelve Monkeys   \n",
              "\n",
              "                                            overview  \\\n",
              "0  Led by Woody, Andy's toys live happily in his ...   \n",
              "1  When siblings Judy and Peter discover an encha...   \n",
              "2  James Bond must unmask the mysterious head of ...   \n",
              "3  Ben Sanderson, an alcoholic Hollywood screenwr...   \n",
              "4  In the year 2035, convict James Cole reluctant...   \n",
              "\n",
              "                                            Subtitle  \\\n",
              "0  toy storyled by woody, andy's toys live happil...   \n",
              "1  jumanjiwhen siblings judy and peter discover a...   \n",
              "2  goldeneyejames bond must unmask the mysterious...   \n",
              "3  leaving las vegasben sanderson, an alcoholic h...   \n",
              "4  twelve monkeysin the year 2035, convict james ...   \n",
              "\n",
              "                                                 url  \\\n",
              "0  https://www.ted.com/talks/ken_robinson_says_sc...   \n",
              "1  https://www.ted.com/talks/al_gore_on_averting_...   \n",
              "2  https://www.ted.com/talks/david_pogue_says_sim...   \n",
              "3  https://www.ted.com/talks/majora_carter_s_tale...   \n",
              "4  https://www.ted.com/talks/hans_rosling_shows_t...   \n",
              "\n",
              "                                          transcript  \n",
              "0  good morning. how are you?(laughter)it's been ...  \n",
              "1  thank you so much, chris. and it's truly a gre...  \n",
              "2  (music: \"the sound of silence,\" simon & garfun...  \n",
              "3  if you're here today — and i'm very happy that...  \n",
              "4  about 10 years ago, i took on the task to teac...  "
            ],
            "text/html": [
              "\n",
              "  <div id=\"df-7a66de35-ff2b-4d45-8d49-d44756baa563\">\n",
              "    <div class=\"colab-df-container\">\n",
              "      <div>\n",
              "<style scoped>\n",
              "    .dataframe tbody tr th:only-of-type {\n",
              "        vertical-align: middle;\n",
              "    }\n",
              "\n",
              "    .dataframe tbody tr th {\n",
              "        vertical-align: top;\n",
              "    }\n",
              "\n",
              "    .dataframe thead th {\n",
              "        text-align: right;\n",
              "    }\n",
              "</style>\n",
              "<table border=\"1\" class=\"dataframe\">\n",
              "  <thead>\n",
              "    <tr style=\"text-align: right;\">\n",
              "      <th></th>\n",
              "      <th>id</th>\n",
              "      <th>original_title</th>\n",
              "      <th>overview</th>\n",
              "      <th>Subtitle</th>\n",
              "      <th>url</th>\n",
              "      <th>transcript</th>\n",
              "    </tr>\n",
              "  </thead>\n",
              "  <tbody>\n",
              "    <tr>\n",
              "      <th>0</th>\n",
              "      <td>862.0</td>\n",
              "      <td>Toy Story</td>\n",
              "      <td>Led by Woody, Andy's toys live happily in his ...</td>\n",
              "      <td>toy storyled by woody, andy's toys live happil...</td>\n",
              "      <td>https://www.ted.com/talks/ken_robinson_says_sc...</td>\n",
              "      <td>good morning. how are you?(laughter)it's been ...</td>\n",
              "    </tr>\n",
              "    <tr>\n",
              "      <th>1</th>\n",
              "      <td>8844.0</td>\n",
              "      <td>Jumanji</td>\n",
              "      <td>When siblings Judy and Peter discover an encha...</td>\n",
              "      <td>jumanjiwhen siblings judy and peter discover a...</td>\n",
              "      <td>https://www.ted.com/talks/al_gore_on_averting_...</td>\n",
              "      <td>thank you so much, chris. and it's truly a gre...</td>\n",
              "    </tr>\n",
              "    <tr>\n",
              "      <th>2</th>\n",
              "      <td>710.0</td>\n",
              "      <td>GoldenEye</td>\n",
              "      <td>James Bond must unmask the mysterious head of ...</td>\n",
              "      <td>goldeneyejames bond must unmask the mysterious...</td>\n",
              "      <td>https://www.ted.com/talks/david_pogue_says_sim...</td>\n",
              "      <td>(music: \"the sound of silence,\" simon &amp; garfun...</td>\n",
              "    </tr>\n",
              "    <tr>\n",
              "      <th>3</th>\n",
              "      <td>451.0</td>\n",
              "      <td>Leaving Las Vegas</td>\n",
              "      <td>Ben Sanderson, an alcoholic Hollywood screenwr...</td>\n",
              "      <td>leaving las vegasben sanderson, an alcoholic h...</td>\n",
              "      <td>https://www.ted.com/talks/majora_carter_s_tale...</td>\n",
              "      <td>if you're here today — and i'm very happy that...</td>\n",
              "    </tr>\n",
              "    <tr>\n",
              "      <th>4</th>\n",
              "      <td>63.0</td>\n",
              "      <td>Twelve Monkeys</td>\n",
              "      <td>In the year 2035, convict James Cole reluctant...</td>\n",
              "      <td>twelve monkeysin the year 2035, convict james ...</td>\n",
              "      <td>https://www.ted.com/talks/hans_rosling_shows_t...</td>\n",
              "      <td>about 10 years ago, i took on the task to teac...</td>\n",
              "    </tr>\n",
              "  </tbody>\n",
              "</table>\n",
              "</div>\n",
              "      <button class=\"colab-df-convert\" onclick=\"convertToInteractive('df-7a66de35-ff2b-4d45-8d49-d44756baa563')\"\n",
              "              title=\"Convert this dataframe to an interactive table.\"\n",
              "              style=\"display:none;\">\n",
              "        \n",
              "  <svg xmlns=\"http://www.w3.org/2000/svg\" height=\"24px\"viewBox=\"0 0 24 24\"\n",
              "       width=\"24px\">\n",
              "    <path d=\"M0 0h24v24H0V0z\" fill=\"none\"/>\n",
              "    <path d=\"M18.56 5.44l.94 2.06.94-2.06 2.06-.94-2.06-.94-.94-2.06-.94 2.06-2.06.94zm-11 1L8.5 8.5l.94-2.06 2.06-.94-2.06-.94L8.5 2.5l-.94 2.06-2.06.94zm10 10l.94 2.06.94-2.06 2.06-.94-2.06-.94-.94-2.06-.94 2.06-2.06.94z\"/><path d=\"M17.41 7.96l-1.37-1.37c-.4-.4-.92-.59-1.43-.59-.52 0-1.04.2-1.43.59L10.3 9.45l-7.72 7.72c-.78.78-.78 2.05 0 2.83L4 21.41c.39.39.9.59 1.41.59.51 0 1.02-.2 1.41-.59l7.78-7.78 2.81-2.81c.8-.78.8-2.07 0-2.86zM5.41 20L4 18.59l7.72-7.72 1.47 1.35L5.41 20z\"/>\n",
              "  </svg>\n",
              "      </button>\n",
              "      \n",
              "  <style>\n",
              "    .colab-df-container {\n",
              "      display:flex;\n",
              "      flex-wrap:wrap;\n",
              "      gap: 12px;\n",
              "    }\n",
              "\n",
              "    .colab-df-convert {\n",
              "      background-color: #E8F0FE;\n",
              "      border: none;\n",
              "      border-radius: 50%;\n",
              "      cursor: pointer;\n",
              "      display: none;\n",
              "      fill: #1967D2;\n",
              "      height: 32px;\n",
              "      padding: 0 0 0 0;\n",
              "      width: 32px;\n",
              "    }\n",
              "\n",
              "    .colab-df-convert:hover {\n",
              "      background-color: #E2EBFA;\n",
              "      box-shadow: 0px 1px 2px rgba(60, 64, 67, 0.3), 0px 1px 3px 1px rgba(60, 64, 67, 0.15);\n",
              "      fill: #174EA6;\n",
              "    }\n",
              "\n",
              "    [theme=dark] .colab-df-convert {\n",
              "      background-color: #3B4455;\n",
              "      fill: #D2E3FC;\n",
              "    }\n",
              "\n",
              "    [theme=dark] .colab-df-convert:hover {\n",
              "      background-color: #434B5C;\n",
              "      box-shadow: 0px 1px 3px 1px rgba(0, 0, 0, 0.15);\n",
              "      filter: drop-shadow(0px 1px 2px rgba(0, 0, 0, 0.3));\n",
              "      fill: #FFFFFF;\n",
              "    }\n",
              "  </style>\n",
              "\n",
              "      <script>\n",
              "        const buttonEl =\n",
              "          document.querySelector('#df-7a66de35-ff2b-4d45-8d49-d44756baa563 button.colab-df-convert');\n",
              "        buttonEl.style.display =\n",
              "          google.colab.kernel.accessAllowed ? 'block' : 'none';\n",
              "\n",
              "        async function convertToInteractive(key) {\n",
              "          const element = document.querySelector('#df-7a66de35-ff2b-4d45-8d49-d44756baa563');\n",
              "          const dataTable =\n",
              "            await google.colab.kernel.invokeFunction('convertToInteractive',\n",
              "                                                     [key], {});\n",
              "          if (!dataTable) return;\n",
              "\n",
              "          const docLinkHtml = 'Like what you see? Visit the ' +\n",
              "            '<a target=\"_blank\" href=https://colab.research.google.com/notebooks/data_table.ipynb>data table notebook</a>'\n",
              "            + ' to learn more about interactive tables.';\n",
              "          element.innerHTML = '';\n",
              "          dataTable['output_type'] = 'display_data';\n",
              "          await google.colab.output.renderOutput(dataTable, element);\n",
              "          const docLink = document.createElement('div');\n",
              "          docLink.innerHTML = docLinkHtml;\n",
              "          element.appendChild(docLink);\n",
              "        }\n",
              "      </script>\n",
              "    </div>\n",
              "  </div>\n",
              "  "
            ]
          },
          "metadata": {},
          "execution_count": 20
        }
      ]
    },
    {
      "cell_type": "markdown",
      "source": [
        "# **Tokenization of data**"
      ],
      "metadata": {
        "id": "yEJllRTSDBuh"
      }
    },
    {
      "cell_type": "code",
      "source": [
        "import nltk\n",
        "nltk.download('punkt')"
      ],
      "metadata": {
        "colab": {
          "base_uri": "https://localhost:8080/"
        },
        "id": "Bcpn4seM9KtM",
        "outputId": "e8236bac-fdc1-4779-e728-d6aea16fde36"
      },
      "execution_count": null,
      "outputs": [
        {
          "output_type": "stream",
          "name": "stderr",
          "text": [
            "[nltk_data] Downloading package punkt to /root/nltk_data...\n",
            "[nltk_data]   Unzipping tokenizers/punkt.zip.\n"
          ]
        },
        {
          "output_type": "execute_result",
          "data": {
            "text/plain": [
              "True"
            ]
          },
          "metadata": {},
          "execution_count": 21
        }
      ]
    },
    {
      "cell_type": "code",
      "source": [
        "import nltk\n",
        "nltk.download('omw-1.4')"
      ],
      "metadata": {
        "colab": {
          "base_uri": "https://localhost:8080/"
        },
        "id": "8ESGGg8H9UlZ",
        "outputId": "56ef9c21-9d5e-4757-92f1-c9dfb51dec8e"
      },
      "execution_count": null,
      "outputs": [
        {
          "output_type": "stream",
          "name": "stderr",
          "text": [
            "[nltk_data] Downloading package omw-1.4 to /root/nltk_data...\n"
          ]
        },
        {
          "output_type": "execute_result",
          "data": {
            "text/plain": [
              "True"
            ]
          },
          "metadata": {},
          "execution_count": 22
        }
      ]
    },
    {
      "cell_type": "code",
      "source": [
        "# Preprocess the subtitle and transcript data\n",
        "nltk.download('stopwords')\n",
        "nltk.download('wordnet')\n",
        "\n",
        "stop_words = set(stopwords.words(\"english\"))\n",
        "lemmatizer = WordNetLemmatizer()\n",
        "\n",
        "def preprocess_text(text):\n",
        "    # Convert to lowercase\n",
        "    text = text.lower()\n",
        "\n",
        "    # Remove punctuation\n",
        "    text = text.translate(str.maketrans(\" \", \" \", string.punctuation))\n",
        "\n",
        "    # Tokenize text\n",
        "    tokens = nltk.word_tokenize(text)\n",
        "\n",
        "    # Remove stop words\n",
        "    tokens = [token for token in tokens if token not in stop_words]\n",
        "\n",
        "    # Lemmatize words\n",
        "    tokens = [lemmatizer.lemmatize(token) for token in tokens]\n",
        "\n",
        "    # Join tokens into a string\n",
        "    text = \" \".join(tokens)\n",
        "\n",
        "    return text\n",
        "\n",
        "combined_df[\"Subtitle\"] = combined_df[\"Subtitle\"].apply(preprocess_text)\n",
        "combined_df[\"transcript\"] = combined_df[\"transcript\"].apply(preprocess_text)"
      ],
      "metadata": {
        "colab": {
          "base_uri": "https://localhost:8080/"
        },
        "id": "Wewnh6mq-CWb",
        "outputId": "0af31783-40de-4841-bd7c-650442801a93"
      },
      "execution_count": null,
      "outputs": [
        {
          "output_type": "stream",
          "name": "stderr",
          "text": [
            "[nltk_data] Downloading package stopwords to /root/nltk_data...\n",
            "[nltk_data]   Unzipping corpora/stopwords.zip.\n",
            "[nltk_data] Downloading package wordnet to /root/nltk_data...\n"
          ]
        }
      ]
    },
    {
      "cell_type": "markdown",
      "source": [
        "This above Python code block that contains a function and some code to preprocess subtitle and transcript data using the Natural Language Toolkit (nltk) library.\n",
        "\n",
        "The code begins by downloading two resources from the nltk library: the stopwords list and the WordNetLemmatizer. Stop words are words that are commonly used in a language but don't carry much meaning, such as \"the,\" \"and,\" and \"of.\" The WordNetLemmatizer is a tool for reducing words to their base or dictionary form, such as \"run\" to \"ran\" or \"running\" to \"run\".\n",
        "\n",
        "The main function defined here is preprocess_text, which takes a single text string as input and returns a processed version of it. The function performs several text processing steps to clean and standardize the input text:\n",
        "\n",
        "\n",
        "\n",
        "*  Convert all characters to lowercase using the .lower() method.\n",
        "*   Remove all punctuation using the .translate() method and the string.punctuation constant.\n",
        "\n",
        "\n",
        "*   Tokenize the text into a list of words using nltk.word_tokenize().\n",
        "*  Remove any stop words from the list of tokens using a list comprehension\n",
        "\n",
        "* Lemmatize each token in the list using the lemmatizer.lemmatize() method.\n",
        "*  Join the list of tokens back into a single string using the .join() method.\n",
        "\n",
        "\n",
        "After defining the preprocess_text function, the code applies it to two columns of a Pandas DataFrame called combined_df: the \"Subtitle\" and \"transcript\" columns. The apply() method is used to apply the preprocess_text function to each element of these columns, so that the entire columns are transformed into preprocessed versions of the text data."
      ],
      "metadata": {
        "id": "aaQ1NwYHy15j"
      }
    },
    {
      "cell_type": "markdown",
      "source": [
        "# **vectorization and Cosine Matrix**"
      ],
      "metadata": {
        "id": "XlcQMgA2DJSE"
      }
    },
    {
      "cell_type": "code",
      "source": [
        "# Create a TF-IDF vectorizer\n",
        "vectorizer = TfidfVectorizer()\n",
        "\n",
        "# Create a TF-IDF matrix\n",
        "tfidf_matrix = vectorizer.fit_transform(combined_df[\"Subtitle\"])\n",
        "\n",
        "# Compute the cosine similarity matrix\n",
        "cosine_sim = cosine_similarity(tfidf_matrix, vectorizer.transform(combined_df[\"transcript\"]))"
      ],
      "metadata": {
        "id": "UFrCVrFG80Ya"
      },
      "execution_count": null,
      "outputs": []
    },
    {
      "cell_type": "markdown",
      "source": [
        "This above Python code block creates a TF-IDF (Term Frequency-Inverse Document Frequency) vectorizer and matrix, and then uses them to compute the cosine similarity matrix between two text data columns in a Pandas DataFrame.\n",
        "\n",
        "The TfidfVectorizer() function from the scikit-learn library is used to create a vectorizer that will convert the preprocessed text data in the \"Subtitle\" column of the combined_df DataFrame into a matrix of TF-IDF weights. TF-IDF is a numerical statistic that reflects the importance of a word in a document, based on how often it appears in the document (term frequency) and how common it is across all documents in a corpus (inverse document frequency). The resulting matrix will have one row for each document (i.e., subtitle) and one column for each unique word in the entire corpus.\n",
        "\n",
        "The fit_transform() method is then used to fit the vectorizer to the preprocessed \"Subtitle\" column and transform it into the TF-IDF matrix. The resulting matrix is stored in a variable called tfidf_matrix.\n",
        "\n",
        "The final step is to compute the cosine similarity matrix between the TF-IDF matrix of the \"Subtitle\" column and the vectorized \"transcript\" column of the combined_df DataFrame. Cosine similarity is a measure of the similarity between two non-zero vectors, which is commonly used in natural language processing to compare the similarity of two pieces of text. The cosine_similarity() function from the scikit-learn library is used to compute the cosine similarity matrix, which is stored in a variable called cosine_sim. The resulting matrix will have the same number of rows as the \"Subtitle\" column and the same number of columns as the \"transcript\" column, and each element will represent the cosine similarity between the TF-IDF vector of a subtitle and the TF-IDF vector of a transcript."
      ],
      "metadata": {
        "id": "t04TV8obzryy"
      }
    },
    {
      "cell_type": "code",
      "source": [
        "subtitle=combined_df.loc[movie_df['original_title'] =='Killing Bono', 'Subtitle']"
      ],
      "metadata": {
        "id": "oP4gEFL7-N8Y"
      },
      "execution_count": null,
      "outputs": []
    },
    {
      "cell_type": "code",
      "source": [
        "subtitle.values"
      ],
      "metadata": {
        "colab": {
          "base_uri": "https://localhost:8080/"
        },
        "id": "7JbDZaq7-gqI",
        "outputId": "658a3f84-85c9-46d6-b3db-8646ed4182af"
      },
      "execution_count": null,
      "outputs": [
        {
          "output_type": "execute_result",
          "data": {
            "text/plain": [
              "array([], dtype=object)"
            ]
          },
          "metadata": {},
          "execution_count": 46
        }
      ]
    },
    {
      "cell_type": "markdown",
      "source": [
        "# **Recommendation system**"
      ],
      "metadata": {
        "id": "XFsYoxOGDPNv"
      }
    },
    {
      "cell_type": "code",
      "source": [
        "def recommend_transcripts(title, cosine_sim, data, n=10):\n",
        "    # Get the row index of the given subtitle in the cosine similarity matrix\n",
        "    subtitle=data.loc[combined_df['original_title'] ==title, 'Subtitle'].values[0]\n",
        "    idx = data.loc[data[\"Subtitle\"]==subtitle].index[0]\n",
        "\n",
        "    # Get the cosine similarity scores for all transcripts\n",
        "    transcript_scores = list(enumerate(cosine_sim[idx]))\n",
        "\n",
        "    # Sort the transcripts by cosine similarity scores\n",
        "    transcript_scores = sorted(transcript_scores, key=lambda x: x[1], reverse=True)\n",
        "\n",
        "    # Get the top N transcripts\n",
        "    top_transcripts = transcript_scores[:n]\n",
        "\n",
        "    # Get the URLs and transcripts of the top N transcripts\n",
        "    urls = []\n",
        "    transcripts = []\n",
        "    for transcript_idx, _ in top_transcripts:\n",
        "        urls.append(data.loc[transcript_idx, \"url\"])\n",
        "        transcripts.append(data.loc[transcript_idx, \"transcript\"])\n",
        "\n",
        "    # Return the top N transcript URLs and transcripts\n",
        "    return urls, transcripts"
      ],
      "metadata": {
        "id": "E16m9n0y-JMX"
      },
      "execution_count": null,
      "outputs": []
    },
    {
      "cell_type": "markdown",
      "source": [
        "This above Python code block defines a function called recommend_transcripts that takes a subtitle, a cosine similarity matrix, and a Pandas DataFrame containing transcript data as input, and returns the URLs and transcripts of the most similar transcripts to the given subtitle.\n",
        "\n",
        "The function begins by finding the row index of the given subtitle in the cosine similarity matrix by locating the row in the DataFrame data that has a \"Subtitle\" column value that matches the given subtitle, and then getting its index value using the .index[0] method.\n",
        "\n",
        "The function then retrieves the cosine similarity scores between the given subtitle and all the transcripts by creating a list of tuples where each tuple contains an index value for a transcript and its corresponding cosine similarity score, using the enumerate() method and the previously computed idx variable to access the cosine similarity scores in the cosine similarity matrix.\n",
        "\n",
        "Next, the transcript scores are sorted in descending order using the sorted() method, and the top n transcripts are selected using Python's slice notation.\n",
        "\n",
        "The function then retrieves the URLs and transcripts of the top transcripts by iterating over the top_transcripts list and using the transcript index values to access the corresponding \"url\" and \"transcript\" values in the data DataFrame.\n",
        "\n",
        "Finally, the function returns two lists: one containing the top n transcript URLs and another containing their transcripts. These lists are created using Python's append() method to add each transcript's URL and transcript to the appropriate list within the for loop.\n",
        "\n",
        "Overall, the recommend_transcripts function allows users to input a subtitle and obtain a list of the top n transcripts that are most similar to it, along with their corresponding URLs and transcripts."
      ],
      "metadata": {
        "id": "REuhBjuA0P71"
      }
    },
    {
      "cell_type": "code",
      "source": [
        "# Example usage\n",
        "urls, transcripts=recommend_transcripts(\"Syn Babilonu\", cosine_sim, combined_df, n=2)\n"
      ],
      "metadata": {
        "id": "aNmx8rtp-Mrh"
      },
      "execution_count": null,
      "outputs": []
    },
    {
      "cell_type": "code",
      "source": [
        "print(\"Recommended TED talk URLs:\")\n",
        "for i in range(0,len(urls)):\n",
        "  print(urls[i])"
      ],
      "metadata": {
        "colab": {
          "base_uri": "https://localhost:8080/"
        },
        "id": "1lqt9p7r9j5J",
        "outputId": "e70e0d4f-e739-40be-86e9-6463511a513c"
      },
      "execution_count": null,
      "outputs": [
        {
          "output_type": "stream",
          "name": "stdout",
          "text": [
            "Recommended TED talk URLs:\n",
            "https://www.ted.com/talks/michael_metcalfe_we_need_money_for_aid_so_let_s_print_it\n",
            "\n",
            "https://www.ted.com/talks/robin_nagle_what_i_discovered_in_new_york_city_trash\n",
            "\n"
          ]
        }
      ]
    },
    {
      "cell_type": "code",
      "source": [
        "print(\"Recommended TED talk transcripts:\")\n",
        "for i in range(0,len(transcripts)):\n",
        "  print(transcripts[i])"
      ],
      "metadata": {
        "colab": {
          "base_uri": "https://localhost:8080/"
        },
        "id": "ufFdDFAI9hY2",
        "outputId": "3c897c12-f12b-4a2b-9962-37b13c32bb4d"
      },
      "execution_count": null,
      "outputs": [
        {
          "output_type": "stream",
          "name": "stdout",
          "text": [
            "Recommended TED talk transcripts:\n",
            "thirteen year ago set goal end poverty success weve hit big hurdle aftermath financial crisis begun hit aid payment fallen two consecutive year question whether lesson learned saving financial system used help u overcome hurdle help million simply print money aidsurely common reaction laughter quick talk others channel john mcenroe seriousnow cant accent serious thanks two child youll learn much heart talk left pia life england two loving parent one standing right dorothy right life rural kenya shes one 13000 orphan vulnerable child assisted charity support believe dorothy like pia deserves best life chance afford give youll agree im sure un agrees overriding aim international aid strive life dignity allbut — here hurdle — afford aid aspiration history suggests 1970 government set target increase overseas aid payment 07 percent national income see big gap open actual aid target come millennium development goal eight ambitious target met 2015 tell one target eradicate extreme hunger poverty get sense ambition there also success number people living le 125 day halved lot remains done two year one eight remain hungry context auditorium front two row arent going get food cant settle concern eighth goal relates funding said beginning falling troublingso done well work financial market development study behavior investor react policy economy give different angle aid issue took innocent question thenfouryearold daughter make appreciate thatpia way local cafe passed man collecting charity didnt change give disappointed cafe pia take coloring book start scribbling little ask shes show drawing £5 note give man outside sweet generous dad would course explained cant allowed get classic fouryearold response im excited actually think answer time launch explanation unlimited supply money chasing limited number good sends price moonsomething exchange stuck look relief pia face finally finished related sanctity money supply sanctity challenged questioned reaction central bank financial crisis reassure investor central bank began buying asset try encourage investor funded purchase money created money wasnt actually physically printed still sort locked away banking system today amount created unprecedented together central bank u uk japan increased stock money economy 37 trillion dollar thats three time fact thats three time total physical stock dollar note circulation three timesbefore crisis would utterly unthinkable yet accepted remarkably quickly price gold asset thought protect inflation jump investor bought asset offered little protection inflation bought fixed income security bond bought equity scare story actual action investor spoke rapid acceptance confidencethat confidence based two pillar first year keeping inflation control central bank trusted take moneyprinting away inflation became threat secondly inflation simply never became threat see united state inflation period remained average elsewhereso relate aid well dorothy mango tree charity support come one fundraising event earlier year inspired give oneoff donation remembered firm offer match charitable contribution employee make think instead able help dorothy four classmate go secondary school year able double contribution brilliantso following conversation daughter seeing absence inflation face moneyprinting knowing international aid payment falling wrong time made wonder could match much grander scale let call scheme print aid here might work provided saw little inflation risk central bank would mandated match government overseas aid payment certain limit government aiming get aid 07 percent year let set limit half 035 percent income would work like given year government gave 02 percent income overseas aid central bank would simply top 02 percent far goodhow risky well involves creation money buy good asset sound inflationary already doesnt two important mitigating factor first definition money printed would spent overseas obvious lead inflation country actual printing unless lead currency depreciation country unlikely second reason scale money would printed scheme let think example print aid place u uk japan match aid payment made government last four year print aid would generated 200 billion dollar worth extra aid would look like context increase money stock already happened country save financial system read might struggle see back gap quite small saying took 37 trillion gamble save financial system know paid inflation really saying worth risk print extra 200 billion aid would risk really different clear clear impact aid even though printing three central bank global aid thats given period almost 40 percent aid proportion national income sudden 40year high dont get 07 percent government still incentivized give know thats point matching schemeso think weve learned risk money creation scheme quite modest benefit potentially huge imagine could 40 percent funding might able feed front rowthe thing fear thing fear apart fact ive run time window opportunity idea short one today money creation central bank accepted policy tool may always case today universally agreed aim international aid may always case today might time two thing coincide afford aid weve always aspired giveso print money international aid seriously believe question notthank muchapplause\n",
            "10 year old camping trip dad adirondack mountain wilderness area northern part new york state beautiful day forest sparkling sun made leaf glow like stained glass werent path following could almost pretend first human being ever walk landwe got campsite leanto bluff looking crystal beautiful lake discovered horror behind leanto dump maybe 40 foot square rotting apple core balledup aluminum foil dead sneaker astonished angry deeply confused camper lazy take brought think would clean themthat question stayed simplified little clean u however configure wherever place u clean u istanbul clean u rio paris london new york department sanitation clean u tune 11000 ton garbage 2000 ton recyclables every day wanted get know individual wanted understand take job whats like wear uniform bear burdenso started research project rode truck walked route interviewed people office facility city learned lot still outsider needed go deeperso took job sanitation worker didnt ride truck drove truck operated mechanical broom plowed snow remarkable privilege amazing educationeveryone asks smell prevalent think day really bad get used rather quickly weight take long time get used knew people several year job whose body still adjusting burden bearing body ton trash every weekthen there danger according bureau labor statistic sanitation work one 10 dangerous occupation country learned youre traffic day zooming around want get past often motorist paying attention thats really bad worker garbage full hazard often fly back truck terrible harmi also learned relentlessness trash step curb see city behind truck come understand trash like force nature unto never stop coming also like form respiration circulation must always motionand there stigma put uniform become invisible someone upset whatever reason like youve blocked traffic truck youre taking break close home youre drinking coffee diner come scorn tell dont want anywhere near find stigma especially ironic strongly believe sanitation worker important labor force street city three reason first guardian public health theyre taking away trash efficiently effectively every day start spill containment danger inherent threaten u real way disease weve check decade century burst forth start harm u economy need cant throw old stuff room new stuff engine economy start sputter consumption compromised im advocating capitalism im pointing relationship there call average necessary quotidian velocity simply mean fast used moving contemporary day age usually dont care repair clean carry around coffee cup shopping bag bottle water use throw forget know there workforce side thats going take awayso want suggest today couple way think sanitation perhaps help ameliorate stigma bring conversation craft city sustainable humane work think kind liturgical theyre street every day rhythmically wear uniform many city know expect work let u work almost form reassurance flow maintain keep u safe dross castoffs flow must maintained always matter whaton day september 11 2001 heard growl sanitation truck street grabbed infant son ran downstairs man paper recycling route like every wednesday tried thank work day day started cry looked nodded said going okay going okay little later started research sanitation met man name paulie worked together many time became good friendsi want believe paulie right going okay effort reconfigure specie exist planet must include take account cost including real human cost labor also would well informed reach people work get expertise think create system around sustainability perhaps take u curbside recycling remarkable success across 40 year across united state country around world lift u broader horizon looking form waste could lessened manufacturing industrial source municipal waste think talk garbage account three percent nation waste stream remarkable statisticso flow day flow life next time see someone whose job clean take moment acknowledge take moment say thank youapplause\n"
          ]
        }
      ]
    }
  ]
}